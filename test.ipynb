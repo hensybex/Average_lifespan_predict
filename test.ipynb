{
 "cells": [
  {
   "cell_type": "code",
   "execution_count": 1,
   "metadata": {},
   "outputs": [],
   "source": [
    "import numpy as np\n",
    "import pandas as pd"
   ]
  },
  {
   "cell_type": "code",
   "execution_count": 2,
   "metadata": {},
   "outputs": [],
   "source": [
    "df = pd.read_csv('./life-expectancy.csv')"
   ]
  },
  {
   "cell_type": "code",
   "execution_count": 3,
   "metadata": {},
   "outputs": [
    {
     "data": {
      "text/html": [
       "<div>\n",
       "<style scoped>\n",
       "    .dataframe tbody tr th:only-of-type {\n",
       "        vertical-align: middle;\n",
       "    }\n",
       "\n",
       "    .dataframe tbody tr th {\n",
       "        vertical-align: top;\n",
       "    }\n",
       "\n",
       "    .dataframe thead th {\n",
       "        text-align: right;\n",
       "    }\n",
       "</style>\n",
       "<table border=\"1\" class=\"dataframe\">\n",
       "  <thead>\n",
       "    <tr style=\"text-align: right;\">\n",
       "      <th></th>\n",
       "      <th>Entity</th>\n",
       "      <th>Code</th>\n",
       "      <th>Year</th>\n",
       "      <th>Life expectancy</th>\n",
       "    </tr>\n",
       "  </thead>\n",
       "  <tbody>\n",
       "    <tr>\n",
       "      <th>0</th>\n",
       "      <td>Afghanistan</td>\n",
       "      <td>AFG</td>\n",
       "      <td>1950</td>\n",
       "      <td>27.638</td>\n",
       "    </tr>\n",
       "    <tr>\n",
       "      <th>1</th>\n",
       "      <td>Afghanistan</td>\n",
       "      <td>AFG</td>\n",
       "      <td>1951</td>\n",
       "      <td>27.878</td>\n",
       "    </tr>\n",
       "    <tr>\n",
       "      <th>2</th>\n",
       "      <td>Afghanistan</td>\n",
       "      <td>AFG</td>\n",
       "      <td>1952</td>\n",
       "      <td>28.361</td>\n",
       "    </tr>\n",
       "    <tr>\n",
       "      <th>3</th>\n",
       "      <td>Afghanistan</td>\n",
       "      <td>AFG</td>\n",
       "      <td>1953</td>\n",
       "      <td>28.852</td>\n",
       "    </tr>\n",
       "    <tr>\n",
       "      <th>4</th>\n",
       "      <td>Afghanistan</td>\n",
       "      <td>AFG</td>\n",
       "      <td>1954</td>\n",
       "      <td>29.350</td>\n",
       "    </tr>\n",
       "    <tr>\n",
       "      <th>...</th>\n",
       "      <td>...</td>\n",
       "      <td>...</td>\n",
       "      <td>...</td>\n",
       "      <td>...</td>\n",
       "    </tr>\n",
       "    <tr>\n",
       "      <th>19026</th>\n",
       "      <td>Zimbabwe</td>\n",
       "      <td>ZWE</td>\n",
       "      <td>2015</td>\n",
       "      <td>59.534</td>\n",
       "    </tr>\n",
       "    <tr>\n",
       "      <th>19027</th>\n",
       "      <td>Zimbabwe</td>\n",
       "      <td>ZWE</td>\n",
       "      <td>2016</td>\n",
       "      <td>60.294</td>\n",
       "    </tr>\n",
       "    <tr>\n",
       "      <th>19028</th>\n",
       "      <td>Zimbabwe</td>\n",
       "      <td>ZWE</td>\n",
       "      <td>2017</td>\n",
       "      <td>60.812</td>\n",
       "    </tr>\n",
       "    <tr>\n",
       "      <th>19029</th>\n",
       "      <td>Zimbabwe</td>\n",
       "      <td>ZWE</td>\n",
       "      <td>2018</td>\n",
       "      <td>61.195</td>\n",
       "    </tr>\n",
       "    <tr>\n",
       "      <th>19030</th>\n",
       "      <td>Zimbabwe</td>\n",
       "      <td>ZWE</td>\n",
       "      <td>2019</td>\n",
       "      <td>61.490</td>\n",
       "    </tr>\n",
       "  </tbody>\n",
       "</table>\n",
       "<p>19031 rows × 4 columns</p>\n",
       "</div>"
      ],
      "text/plain": [
       "            Entity Code  Year  Life expectancy\n",
       "0      Afghanistan  AFG  1950           27.638\n",
       "1      Afghanistan  AFG  1951           27.878\n",
       "2      Afghanistan  AFG  1952           28.361\n",
       "3      Afghanistan  AFG  1953           28.852\n",
       "4      Afghanistan  AFG  1954           29.350\n",
       "...            ...  ...   ...              ...\n",
       "19026     Zimbabwe  ZWE  2015           59.534\n",
       "19027     Zimbabwe  ZWE  2016           60.294\n",
       "19028     Zimbabwe  ZWE  2017           60.812\n",
       "19029     Zimbabwe  ZWE  2018           61.195\n",
       "19030     Zimbabwe  ZWE  2019           61.490\n",
       "\n",
       "[19031 rows x 4 columns]"
      ]
     },
     "execution_count": 3,
     "metadata": {},
     "output_type": "execute_result"
    }
   ],
   "source": [
    "df"
   ]
  },
  {
   "cell_type": "code",
   "execution_count": 3,
   "metadata": {},
   "outputs": [
    {
     "ename": "NameError",
     "evalue": "name 'dfGb' is not defined",
     "output_type": "error",
     "traceback": [
      "\u001b[0;31m---------------------------------------------------------------------------\u001b[0m",
      "\u001b[0;31mNameError\u001b[0m                                 Traceback (most recent call last)",
      "\u001b[0;32m<ipython-input-3-cbeda48b0f93>\u001b[0m in \u001b[0;36m<module>\u001b[0;34m\u001b[0m\n\u001b[0;32m----> 1\u001b[0;31m \u001b[0;32mfor\u001b[0m \u001b[0mi\u001b[0m \u001b[0;32min\u001b[0m \u001b[0mrange\u001b[0m\u001b[0;34m(\u001b[0m\u001b[0;36m0\u001b[0m\u001b[0;34m,\u001b[0m \u001b[0mdfGb\u001b[0m\u001b[0;34m.\u001b[0m\u001b[0mshape\u001b[0m\u001b[0;34m[\u001b[0m\u001b[0;36m0\u001b[0m\u001b[0;34m]\u001b[0m\u001b[0;34m)\u001b[0m\u001b[0;34m:\u001b[0m\u001b[0;34m\u001b[0m\u001b[0;34m\u001b[0m\u001b[0m\n\u001b[0m\u001b[1;32m      2\u001b[0m     \u001b[0mprint\u001b[0m\u001b[0;34m(\u001b[0m\u001b[0mdfGb\u001b[0m\u001b[0;34m.\u001b[0m\u001b[0mloc\u001b[0m\u001b[0;34m[\u001b[0m\u001b[0mi\u001b[0m\u001b[0;34m]\u001b[0m\u001b[0;34m[\u001b[0m\u001b[0;34m'Year'\u001b[0m\u001b[0;34m]\u001b[0m\u001b[0;34m,\u001b[0m \u001b[0mend\u001b[0m\u001b[0;34m=\u001b[0m\u001b[0;34m' '\u001b[0m\u001b[0;34m)\u001b[0m\u001b[0;34m\u001b[0m\u001b[0;34m\u001b[0m\u001b[0m\n",
      "\u001b[0;31mNameError\u001b[0m: name 'dfGb' is not defined"
     ]
    }
   ],
   "source": [
    "for i in range(0, dfGb.shape[0]):\n",
    "    print(dfGb.loc[i]['Year'], end=' ')"
   ]
  },
  {
   "cell_type": "code",
   "execution_count": 38,
   "metadata": {},
   "outputs": [
    {
     "name": "stdout",
     "output_type": "stream",
     "text": [
      "20.7193\n"
     ]
    }
   ],
   "source": [
    "−0.0010x2+0.8599x−0.0902"
   ]
  },
  {
   "cell_type": "code",
   "execution_count": 43,
   "metadata": {},
   "outputs": [
    {
     "name": "stdout",
     "output_type": "stream",
     "text": [
      "-140.19020000000003\n"
     ]
    }
   ],
   "source": [
    "x = 2220\n",
    "tmp = -0.0010 * x * x + 0.8599 * x - 0.0902\n",
    "print(tmp)"
   ]
  },
  {
   "cell_type": "code",
   "execution_count": 4,
   "metadata": {},
   "outputs": [],
   "source": [
    "dfGb = df.loc[df['Entity'] == \"United Kingdom\"].reset_index()"
   ]
  },
  {
   "cell_type": "code",
   "execution_count": 5,
   "metadata": {},
   "outputs": [
    {
     "data": {
      "text/html": [
       "<div>\n",
       "<style scoped>\n",
       "    .dataframe tbody tr th:only-of-type {\n",
       "        vertical-align: middle;\n",
       "    }\n",
       "\n",
       "    .dataframe tbody tr th {\n",
       "        vertical-align: top;\n",
       "    }\n",
       "\n",
       "    .dataframe thead th {\n",
       "        text-align: right;\n",
       "    }\n",
       "</style>\n",
       "<table border=\"1\" class=\"dataframe\">\n",
       "  <thead>\n",
       "    <tr style=\"text-align: right;\">\n",
       "      <th></th>\n",
       "      <th>index</th>\n",
       "      <th>Entity</th>\n",
       "      <th>Code</th>\n",
       "      <th>Year</th>\n",
       "      <th>Life expectancy</th>\n",
       "    </tr>\n",
       "  </thead>\n",
       "  <tbody>\n",
       "    <tr>\n",
       "      <th>0</th>\n",
       "      <td>17742</td>\n",
       "      <td>United Kingdom</td>\n",
       "      <td>GBR</td>\n",
       "      <td>-3000</td>\n",
       "      <td>18.000000</td>\n",
       "    </tr>\n",
       "    <tr>\n",
       "      <th>1</th>\n",
       "      <td>17743</td>\n",
       "      <td>United Kingdom</td>\n",
       "      <td>GBR</td>\n",
       "      <td>1</td>\n",
       "      <td>25.000000</td>\n",
       "    </tr>\n",
       "    <tr>\n",
       "      <th>2</th>\n",
       "      <td>17744</td>\n",
       "      <td>United Kingdom</td>\n",
       "      <td>GBR</td>\n",
       "      <td>1543</td>\n",
       "      <td>33.939999</td>\n",
       "    </tr>\n",
       "    <tr>\n",
       "      <th>3</th>\n",
       "      <td>17745</td>\n",
       "      <td>United Kingdom</td>\n",
       "      <td>GBR</td>\n",
       "      <td>1548</td>\n",
       "      <td>38.820000</td>\n",
       "    </tr>\n",
       "    <tr>\n",
       "      <th>4</th>\n",
       "      <td>17746</td>\n",
       "      <td>United Kingdom</td>\n",
       "      <td>GBR</td>\n",
       "      <td>1553</td>\n",
       "      <td>39.590000</td>\n",
       "    </tr>\n",
       "  </tbody>\n",
       "</table>\n",
       "</div>"
      ],
      "text/plain": [
       "   index          Entity Code  Year  Life expectancy\n",
       "0  17742  United Kingdom  GBR -3000        18.000000\n",
       "1  17743  United Kingdom  GBR     1        25.000000\n",
       "2  17744  United Kingdom  GBR  1543        33.939999\n",
       "3  17745  United Kingdom  GBR  1548        38.820000\n",
       "4  17746  United Kingdom  GBR  1553        39.590000"
      ]
     },
     "execution_count": 5,
     "metadata": {},
     "output_type": "execute_result"
    }
   ],
   "source": [
    "dfGb.head()"
   ]
  },
  {
   "cell_type": "code",
   "execution_count": 3,
   "metadata": {},
   "outputs": [],
   "source": [
    "import matplotlib.pyplot as plt"
   ]
  },
  {
   "cell_type": "code",
   "execution_count": 5,
   "metadata": {},
   "outputs": [
    {
     "data": {
      "text/plain": [
       "[<matplotlib.lines.Line2D at 0x11da28910>]"
      ]
     },
     "execution_count": 5,
     "metadata": {},
     "output_type": "execute_result"
    },
    {
     "data": {
      "image/png": "[encoded data removed]",
      "text/plain": [
       "<Figure size 432x288 with 1 Axes>"
      ]
     },
     "metadata": {
      "needs_background": "light"
     },
     "output_type": "display_data"
    }
   ],
   "source": [
    "plt.plot(df.loc[df['Entity'] == \"United Kingdom\"]['Year'], df.loc[df['Entity'] == \"United Kingdom\"]['Life expectancy'])"
   ]
  },
  {
   "cell_type": "code",
   "execution_count": 127,
   "metadata": {},
   "outputs": [
    {
     "data": {
      "text/plain": [
       "[<matplotlib.lines.Line2D at 0x120880a90>]"
      ]
     },
     "execution_count": 127,
     "metadata": {},
     "output_type": "execute_result"
    },
    {
     "data": {
      "image/png": "[encoded data removed]",
      "text/plain": [
       "<Figure size 432x288 with 1 Axes>"
      ]
     },
     "metadata": {
      "needs_background": "light"
     },
     "output_type": "display_data"
    }
   ],
   "source": [
    "fig, ax = plt.subplots()\n",
    "plt.xlim(100, 2100)\n",
    "ax.plot(df.loc[df['Entity'] == \"United Kingdom\"]['Year'], df.loc[df['Entity'] == \"United Kingdom\"]['Life expectancy'])"
   ]
  },
  {
   "cell_type": "code",
   "execution_count": 8,
   "metadata": {},
   "outputs": [
    {
     "data": {
      "text/plain": [
       "[<matplotlib.lines.Line2D at 0x11db22950>]"
      ]
     },
     "execution_count": 8,
     "metadata": {},
     "output_type": "execute_result"
    },
    {
     "data": {
      "image/png": "[encoded data removed]",
      "text/plain": [
       "<Figure size 432x288 with 1 Axes>"
      ]
     },
     "metadata": {
      "needs_background": "light"
     },
     "output_type": "display_data"
    }
   ],
   "source": [
    "fig, ax = plt.subplots()\n",
    "x = np.linspace(-5, 5, 100)\n",
    "y = x ** 2\n",
    "ax.plot(x, y)\n",
    "#ax.plot(df.loc[df['Entity'] == \"United Kingdom\"]['Year'], df.loc[df['Entity'] == \"United Kingdom\"]['Life expectancy'])"
   ]
  },
  {
   "cell_type": "code",
   "execution_count": 15,
   "metadata": {},
   "outputs": [],
   "source": [
    "a = df.loc[df['Entity'] == \"United Kingdom\"]['Year']\n",
    "b = df.loc[df['Entity'] == \"United Kingdom\"]['Life expectancy']"
   ]
  },
  {
   "cell_type": "code",
   "execution_count": 122,
   "metadata": {},
   "outputs": [
    {
     "data": {
      "text/plain": [
       "17784    1743\n",
       "17785    1748\n",
       "17786    1753\n",
       "17787    1758\n",
       "17788    1763\n",
       "         ... \n",
       "17978    2016\n",
       "17979    2017\n",
       "17980    2018\n",
       "17981    2019\n",
       "17982    2200\n",
       "Name: Year, Length: 199, dtype: int64"
      ]
     },
     "execution_count": 122,
     "metadata": {},
     "output_type": "execute_result"
    }
   ],
   "source": [
    "a.loc[a >= 1743]"
   ]
  },
  {
   "cell_type": "code",
   "execution_count": 149,
   "metadata": {},
   "outputs": [
    {
     "data": {
      "text/plain": [
       "array([-3000,     1,  1543,  1548,  1553,  1558,  1563,  1568,  1573,\n",
       "        1578,  1583,  1588,  1593,  1598,  1603,  1608,  1613,  1618,\n",
       "        1623,  1628,  1633,  1638,  1643,  1648,  1653,  1658,  1663,\n",
       "        1668,  1673,  1678,  1683,  1688,  1693,  1698,  1703,  1708,\n",
       "        1713,  1718,  1723,  1728,  1733,  1738,  1743,  1748,  1753,\n",
       "        1758,  1763,  1768,  1773,  1778,  1783,  1788,  1793,  1798,\n",
       "        1803,  1808,  1813,  1818,  1823,  1828,  1833,  1838,  1842,\n",
       "        1843,  1844,  1845,  1846,  1847,  1848,  1849,  1850,  1851,\n",
       "        1852,  1853,  1854,  1855,  1856,  1857,  1858,  1859,  1860,\n",
       "        1861,  1862,  1863,  1864,  1865,  1866,  1867,  1868,  1869,\n",
       "        1870,  1871,  1872,  1873,  1874,  1875,  1876,  1877,  1878,\n",
       "        1879,  1880,  1881,  1882,  1883,  1884,  1885,  1886,  1887,\n",
       "        1888,  1889,  1890,  1891,  1892,  1893,  1894,  1895,  1896,\n",
       "        1897,  1898,  1899,  1900,  1901,  1902,  1903,  1904,  1905,\n",
       "        1906,  1907,  1908,  1909,  1910,  1911,  1912,  1913,  1914,\n",
       "        1915,  1916,  1917,  1918,  1919,  1920,  1921,  1922,  1923,\n",
       "        1924,  1925,  1926,  1927,  1928,  1929,  1930,  1931,  1932,\n",
       "        1933,  1934,  1935,  1936,  1937,  1938,  1939,  1940,  1941,\n",
       "        1942,  1943,  1944,  1945,  1946,  1947,  1948,  1949,  1950,\n",
       "        1951,  1952,  1953,  1954,  1955,  1956,  1957,  1958,  1959,\n",
       "        1960,  1961,  1962,  1963,  1964,  1965,  1966,  1967,  1968,\n",
       "        1969,  1970,  1971,  1972,  1973,  1974,  1975,  1976,  1977,\n",
       "        1978,  1979,  1980,  1981,  1982,  1983,  1984,  1985,  1986,\n",
       "        1987,  1988,  1989,  1990,  1991,  1992,  1993,  1994,  1995,\n",
       "        1996,  1997,  1998,  1999,  2000,  2001,  2002,  2003,  2004,\n",
       "        2005,  2006,  2007,  2008,  2009,  2010,  2011,  2012,  2013,\n",
       "        2014,  2015,  2016,  2017,  2018,  2019,  2200])"
      ]
     },
     "execution_count": 149,
     "metadata": {},
     "output_type": "execute_result"
    }
   ],
   "source": [
    "a.to_numpy()"
   ]
  },
  {
   "cell_type": "code",
   "execution_count": 100,
   "metadata": {},
   "outputs": [
    {
     "data": {
      "text/plain": [
       "array([ 18.      ,  25.      ,  33.939999,  38.82    ,  39.59    ,\n",
       "        22.379999,  36.66    ,  39.669998,  41.060001,  41.560001,\n",
       "        42.700001,  37.049999,  38.049999,  37.82    ,  38.529999,\n",
       "        39.59    ,  36.790001,  40.310001,  33.389999,  39.689999,\n",
       "        39.720001,  34.029999,  36.32    ,  39.740002,  39.139999,\n",
       "        33.040001,  33.27    ,  32.48    ,  37.41    ,  32.400002,\n",
       "        31.27    ,  35.93    ,  36.349998,  38.060001,  38.470001,\n",
       "        38.5     ,  36.889999,  35.75    ,  35.490002,  25.34    ,\n",
       "        36.34    ,  35.259998,  34.27    ,  36.470001,  39.77    ,\n",
       "        38.119999,  35.369999,  36.189999,  39.09    ,  37.740002,\n",
       "        35.810001,  38.970001,  37.919998,  38.93    ,  40.02    ,\n",
       "        40.580002,  41.25    ,  40.84    ,  40.470001,  41.43    ,\n",
       "        40.889999,  40.560001,  40.994999,  41.560001,  41.240002,\n",
       "        42.169998,  40.150002,  38.514999,  39.889999,  37.68    ,\n",
       "        42.77    ,  40.950001,  40.41    ,  39.985001,  39.48    ,\n",
       "        40.740002,  42.470001,  40.924999,  39.544998,  40.404999,\n",
       "        41.945   ,  41.619999,  42.130001,  40.369999,  39.584999,\n",
       "        39.75    ,  40.084999,  41.994999,  41.700001,  41.34    ,\n",
       "        40.605   ,  41.134998,  42.720001,  43.290001,  42.105   ,\n",
       "        41.450001,  42.665001,  43.689999,  42.040001,  43.505001,\n",
       "        42.974998,  45.055   ,  43.985001,  44.014999,  43.634998,\n",
       "        44.57    ,  44.584999,  45.080002,  46.279999,  45.93    ,\n",
       "        44.119999,  44.43    ,  45.59    ,  44.68    ,  48.275002,\n",
       "        45.41    ,  47.07    ,  46.445   ,  46.139999,  45.244999,\n",
       "        45.619999,  46.93    ,  48.355   ,  49.540001,  48.145   ,\n",
       "        49.919998,  49.595001,  50.564999,  51.02    ,  51.669998,\n",
       "        53.255001,  51.224998,  54.310001,  53.355   ,  53.209999,\n",
       "        51.205002,  54.240002,  54.154999,  47.275002,  54.310001,\n",
       "        57.255001,  58.084999,  57.029999,  59.310001,  58.080002,\n",
       "        58.43    ,  59.57    ,  58.959999,  59.919998,  57.630001,\n",
       "        60.779999,  60.009998,  60.529999,  60.580002,  61.310001,\n",
       "        61.959999,  61.759998,  61.799999,  63.209999,  63.610001,\n",
       "        60.880001,  61.349998,  63.990002,  64.010002,  64.809998,\n",
       "        65.75    ,  66.339996,  66.309998,  68.389999,  68.110001,\n",
       "        68.708   ,  68.903   ,  69.271   ,  69.599   ,  69.887   ,\n",
       "        70.135   ,  70.345   ,  70.517   ,  70.658   ,  70.773   ,\n",
       "        70.87    ,  70.958   ,  71.047   ,  71.144   ,  71.253   ,\n",
       "        71.372   ,  71.497   ,  71.62    ,  71.735   ,  71.844   ,\n",
       "        71.948   ,  72.051   ,  72.159   ,  72.278   ,  72.41    ,\n",
       "        72.561   ,  72.733   ,  72.926   ,  73.135   ,  73.359   ,\n",
       "        73.59    ,  73.821   ,  74.047   ,  74.264   ,  74.471   ,\n",
       "        74.669   ,  74.863   ,  75.06    ,  75.264   ,  75.474   ,\n",
       "        75.689   ,  75.903   ,  76.111   ,  76.311   ,  76.504   ,\n",
       "        76.694   ,  76.886   ,  77.086   ,  77.298   ,  77.522   ,\n",
       "        77.761   ,  78.011   ,  78.268   ,  78.529   ,  78.79    ,\n",
       "        79.052   ,  79.316   ,  79.584   ,  79.85    ,  80.11    ,\n",
       "        80.352   ,  80.564   ,  80.739   ,  80.876   ,  80.978   ,\n",
       "        81.052   ,  81.111   ,  81.168   ,  81.236   ,  81.321   ,\n",
       "       150.      ])"
      ]
     },
     "execution_count": 100,
     "metadata": {},
     "output_type": "execute_result"
    }
   ],
   "source": [
    "b.to_numpy()"
   ]
  },
  {
   "cell_type": "code",
   "execution_count": 158,
   "metadata": {},
   "outputs": [
    {
     "name": "stdout",
     "output_type": "stream",
     "text": [
      "The value of pi is approximately 3.1416.\n"
     ]
    }
   ],
   "source": [
    "import math\n",
    "print(f'Year: {math.pi:.4f}.')"
   ]
  },
  {
   "cell_type": "code",
   "execution_count": 166,
   "metadata": {},
   "outputs": [
    {
     "name": "stdout",
     "output_type": "stream",
     "text": [
      "Year:  1 . Life exp.: 25.0. Improve: 38.88888888888889 %\n",
      "Year:  1543 . Life exp.: 33.9. Improve: 35.759996 %\n",
      "Year:  1548 . Life exp.: 38.8. Improve: 14.378318042967534 %\n",
      "Year:  1553 . Life exp.: 39.6. Improve: 1.983513652756319 %\n",
      "Year:  1558 . Life exp.: 22.4. Improve: -43.47057590300582 %\n",
      "Year:  1563 . Life exp.: 36.7. Improve: 63.80697782873001 %\n",
      "Year:  1568 . Life exp.: 39.7. Improve: 8.210578286961274 %\n",
      "Year:  1573 . Life exp.: 41.1. Improve: 3.503914973729013 %\n",
      "Year:  1578 . Life exp.: 41.6. Improve: 1.217730121341205 %\n",
      "Year:  1583 . Life exp.: 42.7. Improve: 2.743022070668383 %\n",
      "Year:  1588 . Life exp.: 37.0. Improve: -13.231854491057273 %\n",
      "Year:  1593 . Life exp.: 38.0. Improve: 2.699055403483277 %\n",
      "Year:  1598 . Life exp.: 37.8. Improve: -0.6044651932842348 %\n",
      "Year:  1603 . Life exp.: 38.5. Improve: 1.8773109465890965 %\n",
      "Year:  1608 . Life exp.: 39.6. Improve: 2.751105703376756 %\n",
      "Year:  1613 . Life exp.: 36.8. Improve: -7.0724905279110875 %\n",
      "Year:  1618 . Life exp.: 40.3. Improve: 9.56781708160322 %\n",
      "Year:  1623 . Life exp.: 33.4. Improve: -17.16696062597469 %\n",
      "Year:  1628 . Life exp.: 39.7. Improve: 18.86792509337902 %\n",
      "Year:  1633 . Life exp.: 39.7. Improve: 0.07559083082870119 %\n",
      "Year:  1638 . Life exp.: 34.0. Improve: -14.325281613160096 %\n",
      "Year:  1643 . Life exp.: 36.3. Improve: 6.729359586522479 %\n",
      "Year:  1648 . Life exp.: 39.7. Improve: 9.416305066079305 %\n",
      "Year:  1653 . Life exp.: 39.1. Improve: -1.5098212627166148 %\n",
      "Year:  1658 . Life exp.: 33.0. Improve: -15.585074491187372 %\n",
      "Year:  1663 . Life exp.: 33.3. Improve: 0.6961228602868365 %\n",
      "Year:  1668 . Life exp.: 32.5. Improve: -2.3745115719867935 %\n",
      "Year:  1673 . Life exp.: 37.4. Improve: 15.17857142857143 %\n",
      "Year:  1678 . Life exp.: 32.4. Improve: -13.392135792568821 %\n",
      "Year:  1683 . Life exp.: 31.3. Improve: -3.4876602785394923 %\n",
      "Year:  1688 . Life exp.: 35.9. Improve: 14.90246242404861 %\n",
      "Year:  1693 . Life exp.: 36.3. Improve: 1.1689340384080145 %\n",
      "Year:  1698 . Life exp.: 38.1. Improve: 4.704272610964106 %\n",
      "Year:  1703 . Life exp.: 38.5. Improve: 1.0772464246651063 %\n",
      "Year:  1708 . Life exp.: 38.5. Improve: 0.07798024231919451 %\n",
      "Year:  1713 . Life exp.: 36.9. Improve: -4.18182077922079 %\n",
      "Year:  1718 . Life exp.: 35.8. Improve: -3.0902657384186867 %\n",
      "Year:  1723 . Life exp.: 35.5. Improve: -0.7272671328671215 %\n",
      "Year:  1728 . Life exp.: 25.3. Improve: -28.599609546373095 %\n",
      "Year:  1733 . Life exp.: 36.3. Improve: 43.40962904498817 %\n",
      "Year:  1738 . Life exp.: 35.3. Improve: -2.971937259218512 %\n",
      "Year:  1743 . Life exp.: 34.3. Improve: -2.8077086107605362 %\n",
      "Year:  1748 . Life exp.: 36.5. Improve: 6.419611905456668 %\n",
      "Year:  1753 . Life exp.: 39.8. Improve: 9.048530050766928 %\n",
      "Year:  1758 . Life exp.: 38.1. Improve: -4.148858436007048 %\n",
      "Year:  1763 . Life exp.: 35.4. Improve: -7.214061049686806 %\n",
      "Year:  1768 . Life exp.: 36.2. Improve: 2.318348948780011 %\n",
      "Year:  1773 . Life exp.: 39.1. Improve: 8.013266317028645 %\n",
      "Year:  1778 . Life exp.: 37.7. Improve: -3.453563571245841 %\n",
      "Year:  1783 . Life exp.: 35.8. Improve: -5.1139398455781855 %\n",
      "Year:  1788 . Life exp.: 39.0. Improve: 8.824350493595361 %\n",
      "Year:  1793 . Life exp.: 37.9. Improve: -2.69438792162208 %\n",
      "Year:  1798 . Life exp.: 38.9. Improve: 2.6635075244465996 %\n",
      "Year:  1803 . Life exp.: 40.0. Improve: 2.799897251477019 %\n",
      "Year:  1808 . Life exp.: 40.6. Improve: 1.39930534732633 %\n",
      "Year:  1813 . Life exp.: 41.2. Improve: 1.6510546253792686 %\n",
      "Year:  1818 . Life exp.: 40.8. Improve: -0.9939393939393857 %\n",
      "Year:  1823 . Life exp.: 40.5. Improve: -0.9059720861900097 %\n",
      "Year:  1828 . Life exp.: 41.4. Improve: 2.3721249722726623 %\n",
      "Year:  1833 . Life exp.: 40.9. Improve: -1.3034057446295046 %\n",
      "Year:  1838 . Life exp.: 40.6. Improve: -0.8070384154325763 %\n",
      "Year:  1842 . Life exp.: 41.0. Improve: 1.072480249692302 %\n",
      "Year:  1843 . Life exp.: 41.6. Improve: 1.378221767977113 %\n",
      "Year:  1844 . Life exp.: 41.2. Improve: -0.7699687013963155 %\n",
      "Year:  1845 . Life exp.: 42.2. Improve: 2.2550823348650555 %\n",
      "Year:  1846 . Life exp.: 40.2. Improve: -4.790125908945974 %\n",
      "Year:  1847 . Life exp.: 38.5. Improve: -4.072236409851248 %\n",
      "Year:  1848 . Life exp.: 39.9. Improve: 3.570037740361878 %\n",
      "Year:  1849 . Life exp.: 37.7. Improve: -5.540233280025894 %\n",
      "Year:  1850 . Life exp.: 42.8. Improve: 13.508492569002131 %\n",
      "Year:  1851 . Life exp.: 41.0. Improve: -4.255316810848732 %\n",
      "Year:  1852 . Life exp.: 40.4. Improve: -1.318683728481481 %\n",
      "Year:  1853 . Life exp.: 40.0. Improve: -1.0517173966839708 %\n",
      "Year:  1854 . Life exp.: 39.5. Improve: -1.262976084457287 %\n",
      "Year:  1855 . Life exp.: 40.7. Improve: 3.191494427558276 %\n",
      "Year:  1856 . Life exp.: 42.5. Improve: 4.246438181323602 %\n",
      "Year:  1857 . Life exp.: 40.9. Improve: -3.6378666437987692 %\n",
      "Year:  1858 . Life exp.: 39.5. Improve: -3.37202451733719 %\n",
      "Year:  1859 . Life exp.: 40.4. Improve: 2.1747402794153556 %\n",
      "Year:  1860 . Life exp.: 41.9. Improve: 3.8114120482963108 %\n",
      "Year:  1861 . Life exp.: 41.6. Improve: -0.7748265585886287 %\n",
      "Year:  1862 . Life exp.: 42.1. Improve: 1.2253772519312172 %\n",
      "Year:  1863 . Life exp.: 40.4. Improve: -4.1775503399584535 %\n",
      "Year:  1864 . Life exp.: 39.6. Improve: -1.9445133005824542 %\n",
      "Year:  1865 . Life exp.: 39.8. Improve: 0.4168270914949467 %\n",
      "Year:  1866 . Life exp.: 40.1. Improve: 0.8427647798742045 %\n",
      "Year:  1867 . Life exp.: 42.0. Improve: 4.764874760256334 %\n",
      "Year:  1868 . Life exp.: 41.7. Improve: -0.7024598333720633 %\n",
      "Year:  1869 . Life exp.: 41.3. Improve: -0.8633117298965938 %\n",
      "Year:  1870 . Life exp.: 40.6. Improve: -1.7779390420900012 %\n",
      "Year:  1871 . Life exp.: 41.1. Improve: 1.3052530476542277 %\n",
      "Year:  1872 . Life exp.: 42.7. Improve: 3.853173883708485 %\n",
      "Year:  1873 . Life exp.: 43.3. Improve: 1.3342696316884455 %\n",
      "Year:  1874 . Life exp.: 42.1. Improve: -2.7373549841220997 %\n",
      "Year:  1875 . Life exp.: 41.5. Improve: -1.555632347702165 %\n",
      "Year:  1876 . Life exp.: 42.7. Improve: 2.9312423900785993 %\n",
      "Year:  1877 . Life exp.: 43.7. Improve: 2.4024328512262225 %\n",
      "Year:  1878 . Life exp.: 42.0. Improve: -3.776603428166699 %\n",
      "Year:  1879 . Life exp.: 43.5. Improve: 3.4847763205333804 %\n",
      "Year:  1880 . Life exp.: 43.0. Improve: -1.2182576435293053 %\n",
      "Year:  1881 . Life exp.: 45.1. Improve: 4.840028148459717 %\n",
      "Year:  1882 . Life exp.: 44.0. Improve: -2.3748729330817793 %\n",
      "Year:  1883 . Life exp.: 44.0. Improve: 0.06820052135497728 %\n",
      "Year:  1884 . Life exp.: 43.6. Improve: -0.8633443340530351 %\n",
      "Year:  1885 . Life exp.: 44.6. Improve: 2.142779976751699 %\n",
      "Year:  1886 . Life exp.: 44.6. Improve: 0.033652681175669705 %\n",
      "Year:  1887 . Life exp.: 45.1. Improve: 1.1102456231971747 %\n",
      "Year:  1888 . Life exp.: 46.3. Improve: 2.661927566019177 %\n",
      "Year:  1889 . Life exp.: 45.9. Improve: -0.7562640612848692 %\n",
      "Year:  1890 . Life exp.: 44.1. Improve: -3.940781624210755 %\n",
      "Year:  1891 . Life exp.: 44.4. Improve: 0.7026314755809486 %\n",
      "Year:  1892 . Life exp.: 45.6. Improve: 2.6108485257708836 %\n",
      "Year:  1893 . Life exp.: 44.7. Improve: -1.9960517657381085 %\n",
      "Year:  1894 . Life exp.: 48.3. Improve: 8.046110116383172 %\n",
      "Year:  1895 . Life exp.: 45.4. Improve: -5.934752731859035 %\n",
      "Year:  1896 . Life exp.: 47.1. Improve: 3.6555824708214133 %\n",
      "Year:  1897 . Life exp.: 46.4. Improve: -1.327809645209263 %\n",
      "Year:  1898 . Life exp.: 46.1. Improve: -0.6566928625255771 %\n",
      "Year:  1899 . Life exp.: 45.2. Improve: -1.9397486332845306 %\n",
      "Year:  1900 . Life exp.: 45.6. Improve: 0.8288208825023955 %\n",
      "Year:  1901 . Life exp.: 46.9. Improve: 2.871549821822661 %\n",
      "Year:  1902 . Life exp.: 48.4. Improve: 3.0364372469635565 %\n",
      "Year:  1903 . Life exp.: 49.5. Improve: 2.4506276496742982 %\n",
      "Year:  1904 . Life exp.: 48.1. Improve: -2.8159083000422234 %\n",
      "Year:  1905 . Life exp.: 49.9. Improve: 3.686775366081621 %\n",
      "Year:  1906 . Life exp.: 49.6. Improve: -0.6510356831344348 %\n",
      "Year:  1907 . Life exp.: 50.6. Improve: 1.9558382507140122 %\n",
      "Year:  1908 . Life exp.: 51.0. Improve: 0.8998338949833715 %\n",
      "Year:  1909 . Life exp.: 51.7. Improve: 1.2740062720501695 %\n",
      "Year:  1910 . Life exp.: 53.3. Improve: 3.0675499542306937 %\n",
      "Year:  1911 . Life exp.: 51.2. Improve: -3.8118542144051424 %\n",
      "Year:  1912 . Life exp.: 54.3. Improve: 6.022456067250604 %\n",
      "Year:  1913 . Life exp.: 53.4. Improve: -1.758425671912624 %\n",
      "Year:  1914 . Life exp.: 53.2. Improve: -0.2717664698716158 %\n",
      "Year:  1915 . Life exp.: 51.2. Improve: -3.7680831379079636 %\n",
      "Year:  1916 . Life exp.: 54.2. Improve: 5.927155319708812 %\n",
      "Year:  1917 . Life exp.: 54.2. Improve: -0.1567164396491126 %\n",
      "Year:  1918 . Life exp.: 47.3. Improve: -12.704269461809051 %\n",
      "Year:  1919 . Life exp.: 54.3. Improve: 14.881012590967208 %\n",
      "Year:  1920 . Life exp.: 57.3. Improve: 5.422574011736807 %\n",
      "Year:  1921 . Life exp.: 58.1. Improve: 1.4496515334966045 %\n",
      "Year:  1922 . Life exp.: 57.0. Improve: -1.816303724133661 %\n",
      "Year:  1923 . Life exp.: 59.3. Improve: 3.9978994213203536 %\n",
      "Year:  1924 . Life exp.: 58.1. Improve: -2.0738475455429506 %\n",
      "Year:  1925 . Life exp.: 58.4. Improve: 0.6026136156124777 %\n",
      "Year:  1926 . Life exp.: 59.6. Improve: 1.9510525415026538 %\n",
      "Year:  1927 . Life exp.: 59.0. Improve: -1.0240070505287964 %\n",
      "Year:  1928 . Life exp.: 59.9. Improve: 1.6282208552954747 %\n",
      "Year:  1929 . Life exp.: 57.6. Improve: -3.8217574706861637 %\n",
      "Year:  1930 . Life exp.: 60.8. Improve: 5.465899610170051 %\n",
      "Year:  1931 . Life exp.: 60.0. Improve: -1.2668657661544231 %\n",
      "Year:  1932 . Life exp.: 60.5. Improve: 0.866523941560539 %\n",
      "Year:  1933 . Life exp.: 60.6. Improve: 0.0826086251876591 %\n",
      "Year:  1934 . Life exp.: 61.3. Improve: 1.2050164673154011 %\n",
      "Year:  1935 . Life exp.: 62.0. Improve: 1.0601826609006195 %\n",
      "Year:  1936 . Life exp.: 61.8. Improve: -0.322790515216116 %\n",
      "Year:  1937 . Life exp.: 61.8. Improve: 0.06476846064665308 %\n",
      "Year:  1938 . Life exp.: 63.2. Improve: 2.2815534349765874 %\n",
      "Year:  1939 . Life exp.: 63.6. Improve: 0.6328144381081351 %\n",
      "Year:  1940 . Life exp.: 60.9. Improve: -4.291777954853363 %\n",
      "Year:  1941 . Life exp.: 61.3. Improve: 0.7720055720761229 %\n",
      "Year:  1942 . Life exp.: 64.0. Improve: 4.303185144358122 %\n",
      "Year:  1943 . Life exp.: 64.0. Improve: 0.031254882598684745 %\n",
      "Year:  1944 . Life exp.: 64.8. Improve: 1.2497984299391103 %\n",
      "Year:  1945 . Life exp.: 65.8. Improve: 1.45039658850168 %\n",
      "Year:  1946 . Life exp.: 66.3. Improve: 0.8973323193916339 %\n",
      "Year:  1947 . Life exp.: 66.3. Improve: -0.04521857372437313 %\n",
      "Year:  1948 . Life exp.: 68.4. Improve: 3.1367833852144136 %\n",
      "Year:  1949 . Life exp.: 68.1. Improve: -0.40941366295385695 %\n",
      "Year:  1950 . Life exp.: 68.7. Improve: 0.8779900032595822 %\n",
      "Year:  1951 . Life exp.: 68.9. Improve: 0.2838097455900439 %\n",
      "Year:  1952 . Life exp.: 69.3. Improve: 0.5340841472795016 %\n",
      "Year:  1953 . Life exp.: 69.6. Improve: 0.4735026201440556 %\n",
      "Year:  1954 . Life exp.: 69.9. Improve: 0.4137990488369243 %\n",
      "Year:  1955 . Life exp.: 70.1. Improve: 0.3548585573855004 %\n",
      "Year:  1956 . Life exp.: 70.3. Improve: 0.29942254223995685 %\n",
      "Year:  1957 . Life exp.: 70.5. Improve: 0.24450920463429818 %\n",
      "Year:  1958 . Life exp.: 70.7. Improve: 0.19995178467604313 %\n",
      "Year:  1959 . Life exp.: 70.8. Improve: 0.1627558096747642 %\n",
      "Year:  1960 . Life exp.: 70.9. Improve: 0.13705791756744581 %\n",
      "Year:  1961 . Life exp.: 71.0. Improve: 0.12417101735571308 %\n",
      "Year:  1962 . Life exp.: 71.0. Improve: 0.12542630852053135 %\n",
      "Year:  1963 . Life exp.: 71.1. Improve: 0.13652933973284476 %\n",
      "Year:  1964 . Life exp.: 71.3. Improve: 0.15321039019454752 %\n",
      "Year:  1965 . Life exp.: 71.4. Improve: 0.16701051183809773 %\n",
      "Year:  1966 . Life exp.: 71.5. Improve: 0.1751387098582077 %\n",
      "Year:  1967 . Life exp.: 71.6. Improve: 0.1720351902877109 %\n",
      "Year:  1968 . Life exp.: 71.7. Improve: 0.16056967327561417 %\n",
      "Year:  1969 . Life exp.: 71.8. Improve: 0.15194814246880134 %\n",
      "Year:  1970 . Life exp.: 71.9. Improve: 0.14475808696622325 %\n",
      "Year:  1971 . Life exp.: 72.1. Improve: 0.14315894812919666 %\n",
      "Year:  1972 . Life exp.: 72.2. Improve: 0.1498938252071309 %\n",
      "Year:  1973 . Life exp.: 72.3. Improve: 0.16491359359194832 %\n",
      "Year:  1974 . Life exp.: 72.4. Improve: 0.18262818561663408 %\n",
      "Year:  1975 . Life exp.: 72.6. Improve: 0.20853473277173107 %\n",
      "Year:  1976 . Life exp.: 72.7. Improve: 0.23704193712875654 %\n",
      "Year:  1977 . Life exp.: 72.9. Improve: 0.26535410336435705 %\n",
      "Year:  1978 . Life exp.: 73.1. Improve: 0.2865918876669544 %\n",
      "Year:  1979 . Life exp.: 73.4. Improve: 0.3062829014835435 %\n",
      "Year:  1980 . Life exp.: 73.6. Improve: 0.31488978857401106 %\n",
      "Year:  1981 . Life exp.: 73.8. Improve: 0.3139013452914724 %\n",
      "Year:  1982 . Life exp.: 74.0. Improve: 0.30614594763007696 %\n",
      "Year:  1983 . Life exp.: 74.3. Improve: 0.2930571123745712 %\n",
      "Year:  1984 . Life exp.: 74.5. Improve: 0.27873532263278017 %\n",
      "Year:  1985 . Life exp.: 74.7. Improve: 0.26587530716653907 %\n",
      "Year:  1986 . Life exp.: 74.9. Improve: 0.25981330940551317 %\n",
      "Year:  1987 . Life exp.: 75.1. Improve: 0.2631473491577985 %\n",
      "Year:  1988 . Life exp.: 75.3. Improve: 0.27178257394083866 %\n",
      "Year:  1989 . Life exp.: 75.5. Improve: 0.2790178571428489 %\n",
      "Year:  1990 . Life exp.: 75.7. Improve: 0.2848663115775015 %\n",
      "Year:  1991 . Life exp.: 75.9. Improve: 0.2827359325661759 %\n",
      "Year:  1992 . Life exp.: 76.1. Improve: 0.27403396440193195 %\n",
      "Year:  1993 . Life exp.: 76.3. Improve: 0.26277410623957487 %\n",
      "Year:  1994 . Life exp.: 76.5. Improve: 0.25291242415901194 %\n",
      "Year:  1995 . Life exp.: 76.7. Improve: 0.24835302729270622 %\n"
     ]
    },
    {
     "name": "stdout",
     "output_type": "stream",
     "text": [
      "Year:  1996 . Life exp.: 76.9. Improve: 0.25034552898532775 %\n",
      "Year:  1997 . Life exp.: 77.1. Improve: 0.2601253804333541 %\n",
      "Year:  1998 . Life exp.: 77.3. Improve: 0.27501751290766585 %\n",
      "Year:  1999 . Life exp.: 77.5. Improve: 0.289787575357693 %\n",
      "Year:  2000 . Life exp.: 77.8. Improve: 0.3082995794742377 %\n",
      "Year:  2001 . Life exp.: 78.0. Improve: 0.3214979231234166 %\n",
      "Year:  2002 . Life exp.: 78.3. Improve: 0.329440719898464 %\n",
      "Year:  2003 . Life exp.: 78.5. Improve: 0.33346961721264845 %\n",
      "Year:  2004 . Life exp.: 78.8. Improve: 0.3323612932802021 %\n",
      "Year:  2005 . Life exp.: 79.1. Improve: 0.3325295088208989 %\n",
      "Year:  2006 . Life exp.: 79.3. Improve: 0.33395739513233064 %\n",
      "Year:  2007 . Life exp.: 79.6. Improve: 0.33788895052700674 %\n",
      "Year:  2008 . Life exp.: 79.8. Improve: 0.3342380377965309 %\n",
      "Year:  2009 . Life exp.: 80.1. Improve: 0.32561051972448984 %\n",
      "Year:  2010 . Life exp.: 80.4. Improve: 0.302084633628766 %\n",
      "Year:  2011 . Life exp.: 80.6. Improve: 0.26383910792511583 %\n",
      "Year:  2012 . Life exp.: 80.7. Improve: 0.21721860880790075 %\n",
      "Year:  2013 . Life exp.: 80.9. Improve: 0.16968255737625518 %\n",
      "Year:  2014 . Life exp.: 81.0. Improve: 0.12611899698304052 %\n",
      "Year:  2015 . Life exp.: 81.1. Improve: 0.09138284472323822 %\n",
      "Year:  2016 . Life exp.: 81.1. Improve: 0.07279277500865088 %\n",
      "Year:  2017 . Life exp.: 81.2. Improve: 0.07027406886859015 %\n",
      "Year:  2018 . Life exp.: 81.2. Improve: 0.08377685787502198 %\n",
      "Year:  2019 . Life exp.: 81.3. Improve: 0.10463341375743973 %\n",
      "Year:  2200 . Life exp.: 150.0. Improve: 84.4542000221345 %\n"
     ]
    }
   ],
   "source": [
    "i = 0\n",
    "arr2 = []\n",
    "for num, year in zip(b, a):\n",
    "    if i > 0:\n",
    "        print(\"Year: \", year, '.', end=' ')\n",
    "        print(f'Life exp.: {num:.1f}.', end=' ')\n",
    "        print('Improve:', (num - prev) / prev * 100, '%')\n",
    "        arr2.append((num - prev) / prev * 100)\n",
    "    prev = num\n",
    "    i += 1"
   ]
  },
  {
   "cell_type": "code",
   "execution_count": 147,
   "metadata": {},
   "outputs": [
    {
     "data": {
      "text/plain": [
       "[38.88888888888889,\n",
       " 35.759996,\n",
       " 14.378318042967534,\n",
       " 1.983513652756319,\n",
       " -43.47057590300582,\n",
       " 63.80697782873001,\n",
       " 8.210578286961274,\n",
       " 3.503914973729013,\n",
       " 1.217730121341205,\n",
       " 2.743022070668383,\n",
       " -13.231854491057273,\n",
       " 2.699055403483277,\n",
       " -0.6044651932842348,\n",
       " 1.8773109465890965,\n",
       " 2.751105703376756,\n",
       " -7.0724905279110875,\n",
       " 9.56781708160322,\n",
       " -17.16696062597469,\n",
       " 18.86792509337902,\n",
       " 0.07559083082870119,\n",
       " -14.325281613160096,\n",
       " 6.729359586522479,\n",
       " 9.416305066079305,\n",
       " -1.5098212627166148,\n",
       " -15.585074491187372,\n",
       " 0.6961228602868365,\n",
       " -2.3745115719867935,\n",
       " 15.17857142857143,\n",
       " -13.392135792568821,\n",
       " -3.4876602785394923,\n",
       " 14.90246242404861,\n",
       " 1.1689340384080145,\n",
       " 4.704272610964106,\n",
       " 1.0772464246651063,\n",
       " 0.07798024231919451,\n",
       " -4.18182077922079,\n",
       " -3.0902657384186867,\n",
       " -0.7272671328671215,\n",
       " -28.599609546373095,\n",
       " 43.40962904498817,\n",
       " -2.971937259218512,\n",
       " -2.8077086107605362,\n",
       " 6.419611905456668,\n",
       " 9.048530050766928,\n",
       " -4.148858436007048,\n",
       " -7.214061049686806,\n",
       " 2.318348948780011,\n",
       " 8.013266317028645,\n",
       " -3.453563571245841,\n",
       " -5.1139398455781855,\n",
       " 8.824350493595361,\n",
       " -2.69438792162208,\n",
       " 2.6635075244465996,\n",
       " 2.799897251477019,\n",
       " 1.39930534732633,\n",
       " 1.6510546253792686,\n",
       " -0.9939393939393857,\n",
       " -0.9059720861900097,\n",
       " 2.3721249722726623,\n",
       " -1.3034057446295046,\n",
       " -0.8070384154325763,\n",
       " 1.072480249692302,\n",
       " 1.378221767977113,\n",
       " -0.7699687013963155,\n",
       " 2.2550823348650555,\n",
       " -4.790125908945974,\n",
       " -4.072236409851248,\n",
       " 3.570037740361878,\n",
       " -5.540233280025894,\n",
       " 13.508492569002131,\n",
       " -4.255316810848732,\n",
       " -1.318683728481481,\n",
       " -1.0517173966839708,\n",
       " -1.262976084457287,\n",
       " 3.191494427558276,\n",
       " 4.246438181323602,\n",
       " -3.6378666437987692,\n",
       " -3.37202451733719,\n",
       " 2.1747402794153556,\n",
       " 3.8114120482963108,\n",
       " -0.7748265585886287,\n",
       " 1.2253772519312172,\n",
       " -4.1775503399584535,\n",
       " -1.9445133005824542,\n",
       " 0.4168270914949467,\n",
       " 0.8427647798742045,\n",
       " 4.764874760256334,\n",
       " -0.7024598333720633,\n",
       " -0.8633117298965938,\n",
       " -1.7779390420900012,\n",
       " 1.3052530476542277,\n",
       " 3.853173883708485,\n",
       " 1.3342696316884455,\n",
       " -2.7373549841220997,\n",
       " -1.555632347702165,\n",
       " 2.9312423900785993,\n",
       " 2.4024328512262225,\n",
       " -3.776603428166699,\n",
       " 3.4847763205333804,\n",
       " -1.2182576435293053,\n",
       " 4.840028148459717,\n",
       " -2.3748729330817793,\n",
       " 0.06820052135497728,\n",
       " -0.8633443340530351,\n",
       " 2.142779976751699,\n",
       " 0.033652681175669705,\n",
       " 1.1102456231971747,\n",
       " 2.661927566019177,\n",
       " -0.7562640612848692,\n",
       " -3.940781624210755,\n",
       " 0.7026314755809486,\n",
       " 2.6108485257708836,\n",
       " -1.9960517657381085,\n",
       " 8.046110116383172,\n",
       " -5.934752731859035,\n",
       " 3.6555824708214133,\n",
       " -1.327809645209263,\n",
       " -0.6566928625255771,\n",
       " -1.9397486332845306,\n",
       " 0.8288208825023955,\n",
       " 2.871549821822661,\n",
       " 3.0364372469635565,\n",
       " 2.4506276496742982,\n",
       " -2.8159083000422234,\n",
       " 3.686775366081621,\n",
       " -0.6510356831344348,\n",
       " 1.9558382507140122,\n",
       " 0.8998338949833715,\n",
       " 1.2740062720501695,\n",
       " 3.0675499542306937,\n",
       " -3.8118542144051424,\n",
       " 6.022456067250604,\n",
       " -1.758425671912624,\n",
       " -0.2717664698716158,\n",
       " -3.7680831379079636,\n",
       " 5.927155319708812,\n",
       " -0.1567164396491126,\n",
       " -12.704269461809051,\n",
       " 14.881012590967208,\n",
       " 5.422574011736807,\n",
       " 1.4496515334966045,\n",
       " -1.816303724133661,\n",
       " 3.9978994213203536,\n",
       " -2.0738475455429506,\n",
       " 0.6026136156124777,\n",
       " 1.9510525415026538,\n",
       " -1.0240070505287964,\n",
       " 1.6282208552954747,\n",
       " -3.8217574706861637,\n",
       " 5.465899610170051,\n",
       " -1.2668657661544231,\n",
       " 0.866523941560539,\n",
       " 0.0826086251876591,\n",
       " 1.2050164673154011,\n",
       " 1.0601826609006195,\n",
       " -0.322790515216116,\n",
       " 0.06476846064665308,\n",
       " 2.2815534349765874,\n",
       " 0.6328144381081351,\n",
       " -4.291777954853363,\n",
       " 0.7720055720761229,\n",
       " 4.303185144358122,\n",
       " 0.031254882598684745,\n",
       " 1.2497984299391103,\n",
       " 1.45039658850168,\n",
       " 0.8973323193916339,\n",
       " -0.04521857372437313,\n",
       " 3.1367833852144136,\n",
       " -0.40941366295385695,\n",
       " 0.8779900032595822,\n",
       " 0.2838097455900439,\n",
       " 0.5340841472795016,\n",
       " 0.4735026201440556,\n",
       " 0.4137990488369243,\n",
       " 0.3548585573855004,\n",
       " 0.29942254223995685,\n",
       " 0.24450920463429818,\n",
       " 0.19995178467604313,\n",
       " 0.1627558096747642,\n",
       " 0.13705791756744581,\n",
       " 0.12417101735571308,\n",
       " 0.12542630852053135,\n",
       " 0.13652933973284476,\n",
       " 0.15321039019454752,\n",
       " 0.16701051183809773,\n",
       " 0.1751387098582077,\n",
       " 0.1720351902877109,\n",
       " 0.16056967327561417,\n",
       " 0.15194814246880134,\n",
       " 0.14475808696622325,\n",
       " 0.14315894812919666,\n",
       " 0.1498938252071309,\n",
       " 0.16491359359194832,\n",
       " 0.18262818561663408,\n",
       " 0.20853473277173107,\n",
       " 0.23704193712875654,\n",
       " 0.26535410336435705,\n",
       " 0.2865918876669544,\n",
       " 0.3062829014835435,\n",
       " 0.31488978857401106,\n",
       " 0.3139013452914724,\n",
       " 0.30614594763007696,\n",
       " 0.2930571123745712,\n",
       " 0.27873532263278017,\n",
       " 0.26587530716653907,\n",
       " 0.25981330940551317,\n",
       " 0.2631473491577985,\n",
       " 0.27178257394083866,\n",
       " 0.2790178571428489,\n",
       " 0.2848663115775015,\n",
       " 0.2827359325661759,\n",
       " 0.27403396440193195,\n",
       " 0.26277410623957487,\n",
       " 0.25291242415901194,\n",
       " 0.24835302729270622,\n",
       " 0.25034552898532775,\n",
       " 0.2601253804333541,\n",
       " 0.27501751290766585,\n",
       " 0.289787575357693,\n",
       " 0.3082995794742377,\n",
       " 0.3214979231234166,\n",
       " 0.329440719898464,\n",
       " 0.33346961721264845,\n",
       " 0.3323612932802021,\n",
       " 0.3325295088208989,\n",
       " 0.33395739513233064,\n",
       " 0.33788895052700674,\n",
       " 0.3342380377965309,\n",
       " 0.32561051972448984,\n",
       " 0.302084633628766,\n",
       " 0.26383910792511583,\n",
       " 0.21721860880790075,\n",
       " 0.16968255737625518,\n",
       " 0.12611899698304052,\n",
       " 0.09138284472323822,\n",
       " 0.07279277500865088,\n",
       " 0.07027406886859015,\n",
       " 0.08377685787502198,\n",
       " 0.10463341375743973,\n",
       " 84.4542000221345]"
      ]
     },
     "execution_count": 147,
     "metadata": {},
     "output_type": "execute_result"
    }
   ],
   "source": [
    "arr2"
   ]
  },
  {
   "cell_type": "code",
   "execution_count": 148,
   "metadata": {},
   "outputs": [
    {
     "data": {
      "text/plain": [
       "0.3309383351887812"
      ]
     },
     "execution_count": 148,
     "metadata": {},
     "output_type": "execute_result"
    }
   ],
   "source": [
    "np.array(arr2[150:239]).mean()"
   ]
  },
  {
   "cell_type": "code",
   "execution_count": 21,
   "metadata": {},
   "outputs": [
    {
     "data": {
      "text/plain": [
       "array([-3000,     1,  1543,  1548,  1553,  1558,  1563,  1568,  1573,\n",
       "        1578,  1583,  1588,  1593,  1598,  1603,  1608,  1613,  1618,\n",
       "        1623,  1628,  1633,  1638,  1643,  1648,  1653,  1658,  1663,\n",
       "        1668,  1673,  1678,  1683,  1688,  1693,  1698,  1703,  1708,\n",
       "        1713,  1718,  1723,  1728,  1733,  1738,  1743,  1748,  1753,\n",
       "        1758,  1763,  1768,  1773,  1778,  1783,  1788,  1793,  1798,\n",
       "        1803,  1808,  1813,  1818,  1823,  1828,  1833,  1838,  1842,\n",
       "        1843,  1844,  1845,  1846,  1847,  1848,  1849,  1850,  1851,\n",
       "        1852,  1853,  1854,  1855,  1856,  1857,  1858,  1859,  1860,\n",
       "        1861,  1862,  1863,  1864,  1865,  1866,  1867,  1868,  1869,\n",
       "        1870,  1871,  1872,  1873,  1874,  1875,  1876,  1877,  1878,\n",
       "        1879,  1880,  1881,  1882,  1883,  1884,  1885,  1886,  1887,\n",
       "        1888,  1889,  1890,  1891,  1892,  1893,  1894,  1895,  1896,\n",
       "        1897,  1898,  1899,  1900,  1901,  1902,  1903,  1904,  1905,\n",
       "        1906,  1907,  1908,  1909,  1910,  1911,  1912,  1913,  1914,\n",
       "        1915,  1916,  1917,  1918,  1919,  1920,  1921,  1922,  1923,\n",
       "        1924,  1925,  1926,  1927,  1928,  1929,  1930,  1931,  1932,\n",
       "        1933,  1934,  1935,  1936,  1937,  1938,  1939,  1940,  1941,\n",
       "        1942,  1943,  1944,  1945,  1946,  1947,  1948,  1949,  1950,\n",
       "        1951,  1952,  1953,  1954,  1955,  1956,  1957,  1958,  1959,\n",
       "        1960,  1961,  1962,  1963,  1964,  1965,  1966,  1967,  1968,\n",
       "        1969,  1970,  1971,  1972,  1973,  1974,  1975,  1976,  1977,\n",
       "        1978,  1979,  1980,  1981,  1982,  1983,  1984,  1985,  1986,\n",
       "        1987,  1988,  1989,  1990,  1991,  1992,  1993,  1994,  1995,\n",
       "        1996,  1997,  1998,  1999,  2000,  2001,  2002,  2003,  2004,\n",
       "        2005,  2006,  2007,  2008,  2009,  2010,  2011,  2012,  2013,\n",
       "        2014,  2015,  2016,  2017,  2018,  2019,  2200])"
      ]
     },
     "execution_count": 21,
     "metadata": {},
     "output_type": "execute_result"
    }
   ],
   "source": [
    "a.to_numpy()"
   ]
  },
  {
   "cell_type": "code",
   "execution_count": 117,
   "metadata": {},
   "outputs": [
    {
     "data": {
      "text/plain": [
       "[<matplotlib.lines.Line2D at 0x12077fbd0>]"
      ]
     },
     "execution_count": 117,
     "metadata": {},
     "output_type": "execute_result"
    },
    {
     "data": {
      "image/png": "[encoded data removed]",
      "text/plain": [
       "<Figure size 432x288 with 1 Axes>"
      ]
     },
     "metadata": {
      "needs_background": "light"
     },
     "output_type": "display_data"
    }
   ],
   "source": [
    "fig, ax = plt.subplots()\n",
    "\n",
    "x = np.linspace(1500, 2200, 700)\n",
    "y = 0.000000907501437 * x * x * x - 0.004368661198214 * x * x + 6.972394012263976 * x - 3651.005994439125061\n",
    "\n",
    "ax.plot(a.to_numpy(), b.to_numpy(), marker='^')\n",
    "ax.plot(x, y, marker = 'o')\n",
    "#ax.plot(c, d, marker = '^')\n",
    "#ax.plot(a.to_numpy(), b.to_numpy(), marker='^')"
   ]
  },
  {
   "cell_type": "code",
   "execution_count": 87,
   "metadata": {},
   "outputs": [
    {
     "data": {
      "text/plain": [
       "[<matplotlib.lines.Line2D at 0x11f6cf0d0>]"
      ]
     },
     "execution_count": 87,
     "metadata": {},
     "output_type": "execute_result"
    },
    {
     "data": {
      "image/png": "[encoded data removed]",
      "text/plain": [
       "<Figure size 432x288 with 1 Axes>"
      ]
     },
     "metadata": {
      "needs_background": "light"
     },
     "output_type": "display_data"
    }
   ],
   "source": [
    "fig, ax = plt.subplots()\n",
    "\n",
    "#ax.plot(a.to_numpy(), b.to_numpy(), marker='^')\n",
    "\n",
    "ox = np.linspace(-100, 100, 100)\n",
    "oy = np.zeros(100)\n",
    "ax.plot(ox, oy)\n",
    "\n",
    "ox2 = np.zeros(100)\n",
    "oy2 = np.linspace(-100, 100, 100)\n",
    "ax.plot(ox2, oy2)\n",
    "\n",
    "x = np.linspace(-10, 10, 20)\n",
    "#x = np.array([-10, 0, 10])\n",
    "y = (x-10) ** 2\n",
    "\n",
    "ax.plot(x, y, marker = 'o')\n",
    "#ax.plot(c, d, marker = '^')"
   ]
  },
  {
   "cell_type": "code",
   "execution_count": 60,
   "metadata": {},
   "outputs": [
    {
     "data": {
      "text/plain": [
       "[<matplotlib.lines.Line2D at 0x11f0c6ad0>]"
      ]
     },
     "execution_count": 60,
     "metadata": {},
     "output_type": "execute_result"
    },
    {
     "data": {
      "image/png": "[encoded data removed]",
      "text/plain": [
       "<Figure size 432x288 with 1 Axes>"
      ]
     },
     "metadata": {
      "needs_background": "light"
     },
     "output_type": "display_data"
    }
   ],
   "source": [
    "fig, ax = plt.subplots()\n",
    "\n",
    "#ax.plot(a.to_numpy(), b.to_numpy(), marker='^')\n",
    "\n",
    "x = np.linspace(1500, 2000, 100)\n",
    "y = (x-4) ** 2\n",
    "\n",
    "ax.plot(x, y, marker = 'o')\n",
    "#ax.plot(c, d, marker = '^')"
   ]
  },
  {
   "cell_type": "code",
   "execution_count": null,
   "metadata": {},
   "outputs": [],
   "source": []
  },
  {
   "cell_type": "code",
   "execution_count": null,
   "metadata": {},
   "outputs": [],
   "source": []
  },
  {
   "cell_type": "code",
   "execution_count": null,
   "metadata": {},
   "outputs": [],
   "source": []
  },
  {
   "cell_type": "code",
   "execution_count": 14,
   "metadata": {},
   "outputs": [
    {
     "data": {
      "text/plain": [
       "[<matplotlib.lines.Line2D at 0x11dd9e490>]"
      ]
     },
     "execution_count": 14,
     "metadata": {},
     "output_type": "execute_result"
    },
    {
     "data": {
      "image/png": "[encoded data removed]",
      "text/plain": [
       "<Figure size 432x288 with 1 Axes>"
      ]
     },
     "metadata": {
      "needs_background": "light"
     },
     "output_type": "display_data"
    }
   ],
   "source": [
    "fig, ax = plt.subplots()\n",
    "x = np.array([-3, -2, -1, 0.1, 1, 2, 3])\n",
    "y = np.array([9, 4, 1, 0.1, 1, 4, 9])\n",
    "ax.plot(x, y, marker='o')\n",
    "ax.plot(0.5 * x, y, marker='^')\n",
    "ax.plot(2*x, y, marker='*')"
   ]
  },
  {
   "cell_type": "code",
   "execution_count": 26,
   "metadata": {},
   "outputs": [
    {
     "data": {
      "text/plain": [
       "[<matplotlib.lines.Line2D at 0x11b415a50>]"
      ]
     },
     "execution_count": 26,
     "metadata": {},
     "output_type": "execute_result"
    },
    {
     "data": {
      "image/png": "[encoded data removed]",
      "text/plain": [
       "<Figure size 432x288 with 1 Axes>"
      ]
     },
     "metadata": {
      "needs_background": "light"
     },
     "output_type": "display_data"
    }
   ],
   "source": [
    "plt.plot(df.loc[df['Entity'] == \"United Kingdom\"].loc[df['Year'] >= 1500]['Year'], df.loc[df['Entity'] == \"United Kingdom\"].loc[df['Year'] >= 1500]['Life expectancy'])"
   ]
  },
  {
   "cell_type": "code",
   "execution_count": 22,
   "metadata": {},
   "outputs": [
    {
     "data": {
      "text/html": [
       "<div>\n",
       "<style scoped>\n",
       "    .dataframe tbody tr th:only-of-type {\n",
       "        vertical-align: middle;\n",
       "    }\n",
       "\n",
       "    .dataframe tbody tr th {\n",
       "        vertical-align: top;\n",
       "    }\n",
       "\n",
       "    .dataframe thead th {\n",
       "        text-align: right;\n",
       "    }\n",
       "</style>\n",
       "<table border=\"1\" class=\"dataframe\">\n",
       "  <thead>\n",
       "    <tr style=\"text-align: right;\">\n",
       "      <th></th>\n",
       "      <th>Entity</th>\n",
       "      <th>Code</th>\n",
       "      <th>Year</th>\n",
       "      <th>Life expectancy</th>\n",
       "    </tr>\n",
       "  </thead>\n",
       "  <tbody>\n",
       "    <tr>\n",
       "      <th>17742</th>\n",
       "      <td>United Kingdom</td>\n",
       "      <td>GBR</td>\n",
       "      <td>-3000</td>\n",
       "      <td>18.000000</td>\n",
       "    </tr>\n",
       "    <tr>\n",
       "      <th>17743</th>\n",
       "      <td>United Kingdom</td>\n",
       "      <td>GBR</td>\n",
       "      <td>1</td>\n",
       "      <td>25.000000</td>\n",
       "    </tr>\n",
       "    <tr>\n",
       "      <th>17744</th>\n",
       "      <td>United Kingdom</td>\n",
       "      <td>GBR</td>\n",
       "      <td>1543</td>\n",
       "      <td>33.939999</td>\n",
       "    </tr>\n",
       "    <tr>\n",
       "      <th>17745</th>\n",
       "      <td>United Kingdom</td>\n",
       "      <td>GBR</td>\n",
       "      <td>1548</td>\n",
       "      <td>38.820000</td>\n",
       "    </tr>\n",
       "    <tr>\n",
       "      <th>17746</th>\n",
       "      <td>United Kingdom</td>\n",
       "      <td>GBR</td>\n",
       "      <td>1553</td>\n",
       "      <td>39.590000</td>\n",
       "    </tr>\n",
       "    <tr>\n",
       "      <th>...</th>\n",
       "      <td>...</td>\n",
       "      <td>...</td>\n",
       "      <td>...</td>\n",
       "      <td>...</td>\n",
       "    </tr>\n",
       "    <tr>\n",
       "      <th>17978</th>\n",
       "      <td>United Kingdom</td>\n",
       "      <td>GBR</td>\n",
       "      <td>2016</td>\n",
       "      <td>81.111000</td>\n",
       "    </tr>\n",
       "    <tr>\n",
       "      <th>17979</th>\n",
       "      <td>United Kingdom</td>\n",
       "      <td>GBR</td>\n",
       "      <td>2017</td>\n",
       "      <td>81.168000</td>\n",
       "    </tr>\n",
       "    <tr>\n",
       "      <th>17980</th>\n",
       "      <td>United Kingdom</td>\n",
       "      <td>GBR</td>\n",
       "      <td>2018</td>\n",
       "      <td>81.236000</td>\n",
       "    </tr>\n",
       "    <tr>\n",
       "      <th>17981</th>\n",
       "      <td>United Kingdom</td>\n",
       "      <td>GBR</td>\n",
       "      <td>2019</td>\n",
       "      <td>81.321000</td>\n",
       "    </tr>\n",
       "    <tr>\n",
       "      <th>17982</th>\n",
       "      <td>United Kingdom</td>\n",
       "      <td>GBR</td>\n",
       "      <td>2200</td>\n",
       "      <td>150.000000</td>\n",
       "    </tr>\n",
       "  </tbody>\n",
       "</table>\n",
       "<p>241 rows × 4 columns</p>\n",
       "</div>"
      ],
      "text/plain": [
       "               Entity Code  Year  Life expectancy\n",
       "17742  United Kingdom  GBR -3000        18.000000\n",
       "17743  United Kingdom  GBR     1        25.000000\n",
       "17744  United Kingdom  GBR  1543        33.939999\n",
       "17745  United Kingdom  GBR  1548        38.820000\n",
       "17746  United Kingdom  GBR  1553        39.590000\n",
       "...               ...  ...   ...              ...\n",
       "17978  United Kingdom  GBR  2016        81.111000\n",
       "17979  United Kingdom  GBR  2017        81.168000\n",
       "17980  United Kingdom  GBR  2018        81.236000\n",
       "17981  United Kingdom  GBR  2019        81.321000\n",
       "17982  United Kingdom  GBR  2200       150.000000\n",
       "\n",
       "[241 rows x 4 columns]"
      ]
     },
     "execution_count": 22,
     "metadata": {},
     "output_type": "execute_result"
    }
   ],
   "source": [
    "df.loc[df['Entity'] == \"United Kingdom\"]"
   ]
  },
  {
   "cell_type": "code",
   "execution_count": 20,
   "metadata": {},
   "outputs": [
    {
     "data": {
      "text/html": [
       "<div>\n",
       "<style scoped>\n",
       "    .dataframe tbody tr th:only-of-type {\n",
       "        vertical-align: middle;\n",
       "    }\n",
       "\n",
       "    .dataframe tbody tr th {\n",
       "        vertical-align: top;\n",
       "    }\n",
       "\n",
       "    .dataframe thead th {\n",
       "        text-align: right;\n",
       "    }\n",
       "</style>\n",
       "<table border=\"1\" class=\"dataframe\">\n",
       "  <thead>\n",
       "    <tr style=\"text-align: right;\">\n",
       "      <th></th>\n",
       "      <th>Entity</th>\n",
       "      <th>Code</th>\n",
       "      <th>Year</th>\n",
       "      <th>Life expectancy</th>\n",
       "    </tr>\n",
       "  </thead>\n",
       "  <tbody>\n",
       "    <tr>\n",
       "      <th>17744</th>\n",
       "      <td>United Kingdom</td>\n",
       "      <td>GBR</td>\n",
       "      <td>1543</td>\n",
       "      <td>33.939999</td>\n",
       "    </tr>\n",
       "    <tr>\n",
       "      <th>17745</th>\n",
       "      <td>United Kingdom</td>\n",
       "      <td>GBR</td>\n",
       "      <td>1548</td>\n",
       "      <td>38.820000</td>\n",
       "    </tr>\n",
       "    <tr>\n",
       "      <th>17746</th>\n",
       "      <td>United Kingdom</td>\n",
       "      <td>GBR</td>\n",
       "      <td>1553</td>\n",
       "      <td>39.590000</td>\n",
       "    </tr>\n",
       "    <tr>\n",
       "      <th>17747</th>\n",
       "      <td>United Kingdom</td>\n",
       "      <td>GBR</td>\n",
       "      <td>1558</td>\n",
       "      <td>22.379999</td>\n",
       "    </tr>\n",
       "    <tr>\n",
       "      <th>17748</th>\n",
       "      <td>United Kingdom</td>\n",
       "      <td>GBR</td>\n",
       "      <td>1563</td>\n",
       "      <td>36.660000</td>\n",
       "    </tr>\n",
       "    <tr>\n",
       "      <th>...</th>\n",
       "      <td>...</td>\n",
       "      <td>...</td>\n",
       "      <td>...</td>\n",
       "      <td>...</td>\n",
       "    </tr>\n",
       "    <tr>\n",
       "      <th>17978</th>\n",
       "      <td>United Kingdom</td>\n",
       "      <td>GBR</td>\n",
       "      <td>2016</td>\n",
       "      <td>81.111000</td>\n",
       "    </tr>\n",
       "    <tr>\n",
       "      <th>17979</th>\n",
       "      <td>United Kingdom</td>\n",
       "      <td>GBR</td>\n",
       "      <td>2017</td>\n",
       "      <td>81.168000</td>\n",
       "    </tr>\n",
       "    <tr>\n",
       "      <th>17980</th>\n",
       "      <td>United Kingdom</td>\n",
       "      <td>GBR</td>\n",
       "      <td>2018</td>\n",
       "      <td>81.236000</td>\n",
       "    </tr>\n",
       "    <tr>\n",
       "      <th>17981</th>\n",
       "      <td>United Kingdom</td>\n",
       "      <td>GBR</td>\n",
       "      <td>2019</td>\n",
       "      <td>81.321000</td>\n",
       "    </tr>\n",
       "    <tr>\n",
       "      <th>17982</th>\n",
       "      <td>United Kingdom</td>\n",
       "      <td>GBR</td>\n",
       "      <td>2200</td>\n",
       "      <td>150.000000</td>\n",
       "    </tr>\n",
       "  </tbody>\n",
       "</table>\n",
       "<p>239 rows × 4 columns</p>\n",
       "</div>"
      ],
      "text/plain": [
       "               Entity Code  Year  Life expectancy\n",
       "17744  United Kingdom  GBR  1543        33.939999\n",
       "17745  United Kingdom  GBR  1548        38.820000\n",
       "17746  United Kingdom  GBR  1553        39.590000\n",
       "17747  United Kingdom  GBR  1558        22.379999\n",
       "17748  United Kingdom  GBR  1563        36.660000\n",
       "...               ...  ...   ...              ...\n",
       "17978  United Kingdom  GBR  2016        81.111000\n",
       "17979  United Kingdom  GBR  2017        81.168000\n",
       "17980  United Kingdom  GBR  2018        81.236000\n",
       "17981  United Kingdom  GBR  2019        81.321000\n",
       "17982  United Kingdom  GBR  2200       150.000000\n",
       "\n",
       "[239 rows x 4 columns]"
      ]
     },
     "execution_count": 20,
     "metadata": {},
     "output_type": "execute_result"
    }
   ],
   "source": [
    "df.loc[df['Entity'] == \"United Kingdom\"].loc[df['Year'] >= 1500]"
   ]
  },
  {
   "cell_type": "code",
   "execution_count": 17,
   "metadata": {},
   "outputs": [
    {
     "data": {
      "text/html": [
       "<div>\n",
       "<style scoped>\n",
       "    .dataframe tbody tr th:only-of-type {\n",
       "        vertical-align: middle;\n",
       "    }\n",
       "\n",
       "    .dataframe tbody tr th {\n",
       "        vertical-align: top;\n",
       "    }\n",
       "\n",
       "    .dataframe thead th {\n",
       "        text-align: right;\n",
       "    }\n",
       "</style>\n",
       "<table border=\"1\" class=\"dataframe\">\n",
       "  <thead>\n",
       "    <tr style=\"text-align: right;\">\n",
       "      <th></th>\n",
       "      <th>Entity</th>\n",
       "      <th>Code</th>\n",
       "      <th>Year</th>\n",
       "      <th>Life expectancy</th>\n",
       "    </tr>\n",
       "  </thead>\n",
       "  <tbody>\n",
       "    <tr>\n",
       "      <th>17744</th>\n",
       "      <td>United Kingdom</td>\n",
       "      <td>GBR</td>\n",
       "      <td>1543</td>\n",
       "      <td>33.939999</td>\n",
       "    </tr>\n",
       "    <tr>\n",
       "      <th>17745</th>\n",
       "      <td>United Kingdom</td>\n",
       "      <td>GBR</td>\n",
       "      <td>1548</td>\n",
       "      <td>38.820000</td>\n",
       "    </tr>\n",
       "    <tr>\n",
       "      <th>17746</th>\n",
       "      <td>United Kingdom</td>\n",
       "      <td>GBR</td>\n",
       "      <td>1553</td>\n",
       "      <td>39.590000</td>\n",
       "    </tr>\n",
       "    <tr>\n",
       "      <th>17747</th>\n",
       "      <td>United Kingdom</td>\n",
       "      <td>GBR</td>\n",
       "      <td>1558</td>\n",
       "      <td>22.379999</td>\n",
       "    </tr>\n",
       "    <tr>\n",
       "      <th>17748</th>\n",
       "      <td>United Kingdom</td>\n",
       "      <td>GBR</td>\n",
       "      <td>1563</td>\n",
       "      <td>36.660000</td>\n",
       "    </tr>\n",
       "    <tr>\n",
       "      <th>...</th>\n",
       "      <td>...</td>\n",
       "      <td>...</td>\n",
       "      <td>...</td>\n",
       "      <td>...</td>\n",
       "    </tr>\n",
       "    <tr>\n",
       "      <th>17978</th>\n",
       "      <td>United Kingdom</td>\n",
       "      <td>GBR</td>\n",
       "      <td>2016</td>\n",
       "      <td>81.111000</td>\n",
       "    </tr>\n",
       "    <tr>\n",
       "      <th>17979</th>\n",
       "      <td>United Kingdom</td>\n",
       "      <td>GBR</td>\n",
       "      <td>2017</td>\n",
       "      <td>81.168000</td>\n",
       "    </tr>\n",
       "    <tr>\n",
       "      <th>17980</th>\n",
       "      <td>United Kingdom</td>\n",
       "      <td>GBR</td>\n",
       "      <td>2018</td>\n",
       "      <td>81.236000</td>\n",
       "    </tr>\n",
       "    <tr>\n",
       "      <th>17981</th>\n",
       "      <td>United Kingdom</td>\n",
       "      <td>GBR</td>\n",
       "      <td>2019</td>\n",
       "      <td>81.321000</td>\n",
       "    </tr>\n",
       "    <tr>\n",
       "      <th>17982</th>\n",
       "      <td>United Kingdom</td>\n",
       "      <td>GBR</td>\n",
       "      <td>2200</td>\n",
       "      <td>150.000000</td>\n",
       "    </tr>\n",
       "  </tbody>\n",
       "</table>\n",
       "<p>239 rows × 4 columns</p>\n",
       "</div>"
      ],
      "text/plain": [
       "               Entity Code  Year  Life expectancy\n",
       "17744  United Kingdom  GBR  1543        33.939999\n",
       "17745  United Kingdom  GBR  1548        38.820000\n",
       "17746  United Kingdom  GBR  1553        39.590000\n",
       "17747  United Kingdom  GBR  1558        22.379999\n",
       "17748  United Kingdom  GBR  1563        36.660000\n",
       "...               ...  ...   ...              ...\n",
       "17978  United Kingdom  GBR  2016        81.111000\n",
       "17979  United Kingdom  GBR  2017        81.168000\n",
       "17980  United Kingdom  GBR  2018        81.236000\n",
       "17981  United Kingdom  GBR  2019        81.321000\n",
       "17982  United Kingdom  GBR  2200       150.000000\n",
       "\n",
       "[239 rows x 4 columns]"
      ]
     },
     "execution_count": 17,
     "metadata": {},
     "output_type": "execute_result"
    }
   ],
   "source": [
    "df.loc[df['Entity'] == \"United Kingdom\"].loc[df['Year'] >= 1500]"
   ]
  },
  {
   "cell_type": "code",
   "execution_count": 6,
   "metadata": {},
   "outputs": [
    {
     "data": {
      "text/plain": [
       "Entity             Afghanistan\n",
       "Code                       AFG\n",
       "Year                      1950\n",
       "Life expectancy         27.638\n",
       "Name: 0, dtype: object"
      ]
     },
     "execution_count": 6,
     "metadata": {},
     "output_type": "execute_result"
    }
   ],
   "source": [
    "df.loc[0]"
   ]
  },
  {
   "cell_type": "code",
   "execution_count": null,
   "metadata": {},
   "outputs": [],
   "source": []
  }
 ],
 "metadata": {
  "kernelspec": {
   "display_name": "Python 3",
   "language": "python",
   "name": "python3"
  },
  "language_info": {
   "codemirror_mode": {
    "name": "ipython",
    "version": 3
   },
   "file_extension": ".py",
   "mimetype": "text/x-python",
   "name": "python",
   "nbconvert_exporter": "python",
   "pygments_lexer": "ipython3",
   "version": "3.7.6"
  }
 },
 "nbformat": 4,
 "nbformat_minor": 2
}
